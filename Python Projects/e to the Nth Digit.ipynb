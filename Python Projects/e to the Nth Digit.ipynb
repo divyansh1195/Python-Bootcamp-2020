{
 "cells": [
  {
   "cell_type": "code",
   "execution_count": 1,
   "metadata": {},
   "outputs": [],
   "source": [
    "import math\n",
    "e=math.e"
   ]
  },
  {
   "cell_type": "code",
   "execution_count": 2,
   "metadata": {},
   "outputs": [
    {
     "name": "stdout",
     "output_type": "stream",
     "text": [
      "Precision must be between 1 and 101\n",
      "Enter a number to generate e up to that many decimal places: 200\n",
      "Precision must be between 1 and 101\n",
      "Enter a number to generate e up to that many decimal places: 45\n",
      "2.718281828459045090795598298427648842334747314\n"
     ]
    }
   ],
   "source": [
    "def e_ndigits(n):\n",
    "    return '%.*f' % (n, e)\n",
    "\n",
    "input_int=False\n",
    "while not input_int:\n",
    "    # ask until to get the correct input\n",
    "    print('Precision must be between 1 and 101')\n",
    "    precision = int(input('Enter a number to generate e up to that many decimal places: '))\n",
    "    if 101 >= precision > 0:\n",
    "        input_int = True\n",
    "\n",
    "print(e_ndigits(precision))"
   ]
  }
 ],
 "metadata": {
  "kernelspec": {
   "display_name": "Python 3",
   "language": "python",
   "name": "python3"
  },
  "language_info": {
   "codemirror_mode": {
    "name": "ipython",
    "version": 3
   },
   "file_extension": ".py",
   "mimetype": "text/x-python",
   "name": "python",
   "nbconvert_exporter": "python",
   "pygments_lexer": "ipython3",
   "version": "3.8.5"
  }
 },
 "nbformat": 4,
 "nbformat_minor": 4
}
