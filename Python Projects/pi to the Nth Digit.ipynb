{
 "cells": [
  {
   "cell_type": "code",
   "execution_count": 1,
   "metadata": {},
   "outputs": [],
   "source": [
    "import math\n",
    "pi=math.pi"
   ]
  },
  {
   "cell_type": "code",
   "execution_count": 2,
   "metadata": {},
   "outputs": [
    {
     "name": "stdout",
     "output_type": "stream",
     "text": [
      "Precision must be between 1 and 101\n",
      "Enter a number to generate pi upto that many decimal places: 200\n",
      "Precision must be between 1 and 101\n",
      "Enter a number to generate pi upto that many decimal places: 45\n",
      "3.141592653589793115997963468544185161590576172\n"
     ]
    }
   ],
   "source": [
    "def pi_ndigits(n):\n",
    "    return '%.*f' % (n, pi)\n",
    "\n",
    "\n",
    "input_int=False\n",
    "while not input_int:\n",
    "    # ask until to get the correct input\n",
    "    print('Precision must be between 1 and 101')\n",
    "    precision = int(input('Enter a number to generate pi upto that many decimal places: '))\n",
    "    if 101 >= precision > 0:\n",
    "        input_int = True\n",
    "\n",
    "print(pi_ndigits(precision))"
   ]
  }
 ],
 "metadata": {
  "kernelspec": {
   "display_name": "Python 3",
   "language": "python",
   "name": "python3"
  },
  "language_info": {
   "codemirror_mode": {
    "name": "ipython",
    "version": 3
   },
   "file_extension": ".py",
   "mimetype": "text/x-python",
   "name": "python",
   "nbconvert_exporter": "python",
   "pygments_lexer": "ipython3",
   "version": "3.8.5"
  }
 },
 "nbformat": 4,
 "nbformat_minor": 4
}
