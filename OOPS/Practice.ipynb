{
 "cells": [
  {
   "cell_type": "markdown",
   "metadata": {},
   "source": [
    "1. Class human that gives out the names and age of a person"
   ]
  },
  {
   "cell_type": "code",
   "execution_count": null,
   "metadata": {},
   "outputs": [],
   "source": [
    "class human:\n",
    "    def __init__(self, name, age):\n",
    "        self.name=name\n",
    "        self.age=age\n",
    "        \n",
    "    def output(self):\n",
    "        print(f\"{self.name} is {self.age} years old\")"
   ]
  },
  {
   "cell_type": "code",
   "execution_count": null,
   "metadata": {},
   "outputs": [],
   "source": [
    "my_human=human(\"Divyansh\", 25)"
   ]
  },
  {
   "cell_type": "code",
   "execution_count": null,
   "metadata": {},
   "outputs": [],
   "source": [
    "my_human.output()"
   ]
  },
  {
   "cell_type": "code",
   "execution_count": null,
   "metadata": {},
   "outputs": [],
   "source": [
    "#my_human.age\n",
    "#my_human.name"
   ]
  },
  {
   "cell_type": "code",
   "execution_count": null,
   "metadata": {},
   "outputs": [],
   "source": [
    "type(my_human)"
   ]
  },
  {
   "cell_type": "markdown",
   "metadata": {},
   "source": [
    "check even nos. from list"
   ]
  },
  {
   "cell_type": "code",
   "execution_count": null,
   "metadata": {},
   "outputs": [],
   "source": [
    "def even_nos_list(numls):\n",
    "    for i in numls:\n",
    "        if i%2==0:\n",
    "            return True\n",
    "        else:\n",
    "            pass\n",
    "    return False"
   ]
  },
  {
   "cell_type": "code",
   "execution_count": null,
   "metadata": {},
   "outputs": [],
   "source": [
    "even_nos_list([1,2,3,4,5,67,90])"
   ]
  },
  {
   "cell_type": "code",
   "execution_count": null,
   "metadata": {},
   "outputs": [],
   "source": [
    "even_nos_list([2,4,6,8,10])"
   ]
  },
  {
   "cell_type": "code",
   "execution_count": null,
   "metadata": {},
   "outputs": [],
   "source": [
    "even_nos_list([1,7,3])"
   ]
  },
  {
   "cell_type": "markdown",
   "metadata": {},
   "source": [
    "return even nos from the list"
   ]
  },
  {
   "cell_type": "code",
   "execution_count": null,
   "metadata": {},
   "outputs": [],
   "source": [
    "even_nos=[]#initialise a blank list\n",
    "\n",
    "def nos_list(num):\n",
    "    for char in num:\n",
    "        if char%2==0:\n",
    "            even_nos.append(char)\n",
    "        else:\n",
    "            pass\n",
    "    return even_nos\n",
    "\n",
    "nos_list([2,1,7,90,85,74])"
   ]
  },
  {
   "cell_type": "markdown",
   "metadata": {},
   "source": [
    "Tuple unpacking"
   ]
  },
  {
   "cell_type": "code",
   "execution_count": null,
   "metadata": {},
   "outputs": [],
   "source": [
    "#tuple unpacking\n",
    "\n",
    "def employee_month(empls):\n",
    "    current_hrs=0\n",
    "    employee_name=''\n",
    "    \n",
    "    for emp, hrs in empls:\n",
    "        if hrs>current_hrs:\n",
    "            current_hrs=hrs\n",
    "            employee_name=emp\n",
    "        else:\n",
    "            pass\n",
    "        \n",
    "    return (employee_name, current_hrs)"
   ]
  },
  {
   "cell_type": "code",
   "execution_count": null,
   "metadata": {},
   "outputs": [],
   "source": [
    "empls=[('a', 25), ('b', 35), ('c', 40)]\n",
    "employee_month(empls)"
   ]
  },
  {
   "cell_type": "markdown",
   "metadata": {},
   "source": [
    "interactions b/w python functions"
   ]
  },
  {
   "cell_type": "code",
   "execution_count": null,
   "metadata": {},
   "outputs": [],
   "source": [
    "#shuffle myls\n",
    "myls=[1,2,3,4,5,6,7,8,9,10]\n",
    "from random import shuffle\n",
    "def shuffle_ls(myls):\n",
    "    return shuffle(myls)\n",
    "shuffle_ls(myls)\n",
    "\n",
    "myls"
   ]
  },
  {
   "cell_type": "code",
   "execution_count": null,
   "metadata": {},
   "outputs": [],
   "source": [
    "#guessing game\n",
    "def play_guess():\n",
    "    guess=''\n",
    "    while guess not in ['0', '1', '2']:\n",
    "        guess=input(\"Pick a number out of 1, 2 or 3\")\n",
    "    \n",
    "    return int(guess)\n",
    "\n",
    "shuffle_ls=['','0','']\n",
    "\n",
    "def check_guess(shuffle_ls, myguess):\n",
    "    \n",
    "    if shuffle_ls\n",
    "myguess=play_guess()"
   ]
  },
  {
   "cell_type": "code",
   "execution_count": null,
   "metadata": {},
   "outputs": [],
   "source": []
  },
  {
   "cell_type": "code",
   "execution_count": null,
   "metadata": {},
   "outputs": [],
   "source": []
  },
  {
   "cell_type": "code",
   "execution_count": null,
   "metadata": {},
   "outputs": [],
   "source": [
    "#python code to print even letters in upper & odd letters in lower case\n",
    "def myfunc(word):\n",
    "    mystr=[]\n",
    "    for index, letter in enumerate(word):\n",
    "        if index%2==0:\n",
    "            mystr.append(letter.upper())\n",
    "        else:\n",
    "            mystr.append(letter.lower())\n",
    "    return ''.join(mystr)\n",
    "\n",
    "print(myfunc(\"Johnny\"))"
   ]
  },
  {
   "cell_type": "markdown",
   "metadata": {},
   "source": [
    "user defined function"
   ]
  },
  {
   "cell_type": "code",
   "execution_count": 1,
   "metadata": {},
   "outputs": [],
   "source": [
    "#userdefined functions\n",
    "def user_choice():\n",
    "    choice=\"Wrong choice\"\n",
    "    acceptable_range=range(0,10)\n",
    "    within_range=False\n",
    "    \n",
    "    while choice.isdigit()==False or within_range==False:\n",
    "        choice = (input(\"Enter a number within a range(0,10): \"))\n",
    "        \n",
    "        if choice.isdigit()==False:\n",
    "            print(\"Whoops! Enter a valid number within range(0,10)\")\n",
    "        \n",
    "        if choice.isdigit()==True:\n",
    "            if int(choice) in acceptable_range:\n",
    "                within_range=True\n",
    "            else:\n",
    "                print(\"Whoops! Enter a valid number within range (0,10)\")\n",
    "                within_range=False\n",
    "    \n",
    "    return int(choice)"
   ]
  },
  {
   "cell_type": "code",
   "execution_count": 2,
   "metadata": {},
   "outputs": [
    {
     "name": "stdout",
     "output_type": "stream",
     "text": [
      "Enter a number within a range(0,10): 2\n"
     ]
    },
    {
     "data": {
      "text/plain": [
       "2"
      ]
     },
     "execution_count": 2,
     "metadata": {},
     "output_type": "execute_result"
    }
   ],
   "source": [
    "user_choice()"
   ]
  },
  {
   "cell_type": "code",
   "execution_count": null,
   "metadata": {},
   "outputs": [],
   "source": []
  }
 ],
 "metadata": {
  "kernelspec": {
   "display_name": "Python 3",
   "language": "python",
   "name": "python3"
  },
  "language_info": {
   "codemirror_mode": {
    "name": "ipython",
    "version": 3
   },
   "file_extension": ".py",
   "mimetype": "text/x-python",
   "name": "python",
   "nbconvert_exporter": "python",
   "pygments_lexer": "ipython3",
   "version": "3.8.5"
  }
 },
 "nbformat": 4,
 "nbformat_minor": 4
}
