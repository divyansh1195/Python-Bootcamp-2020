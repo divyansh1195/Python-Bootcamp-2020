{
  "nbformat": 4,
  "nbformat_minor": 0,
  "metadata": {
    "colab": {
      "name": "Nested Loops.ipynb",
      "provenance": [],
      "authorship_tag": "ABX9TyOLDOJ9rDFPsJR6TrtFhfwm",
      "include_colab_link": true
    },
    "kernelspec": {
      "name": "python3",
      "display_name": "Python 3"
    }
  },
  "cells": [
    {
      "cell_type": "markdown",
      "metadata": {
        "id": "view-in-github",
        "colab_type": "text"
      },
      "source": [
        "<a href=\"https://colab.research.google.com/github/divyansh1195/Python-Bootcamp-2020/blob/main/Nested_Loops.ipynb\" target=\"_parent\"><img src=\"https://colab.research.google.com/assets/colab-badge.svg\" alt=\"Open In Colab\"/></a>"
      ]
    },
    {
      "cell_type": "markdown",
      "metadata": {
        "id": "HtOWmG7Xy2Ov"
      },
      "source": [
        "#### 1. Create the below pattern using nested for loop in Python.\r\n",
        "\r\n",
        "#### *\r\n",
        "#### * *\r\n",
        "#### * * *\r\n",
        "#### * * * *\r\n",
        "#### * * * * *\r\n",
        "#### * * * *\r\n",
        "#### * * *\r\n",
        "#### * *\r\n",
        "#### *"
      ]
    },
    {
      "cell_type": "code",
      "metadata": {
        "colab": {
          "base_uri": "https://localhost:8080/"
        },
        "id": "MG3ExDuvLXkc",
        "outputId": "309d94dd-ec0c-481f-f190-322c036f316f"
      },
      "source": [
        "#program to print the above pattern\r\n",
        "\r\n",
        "rows=int(input(\"Enter number of rows: \"))\r\n",
        "\r\n",
        "for i in range(1, rows+1):\r\n",
        "  print(\"* \"*i)\r\n",
        "\r\n",
        "for i in range(rows+1, 0, -1):\r\n",
        "  print(\"* \"*i)"
      ],
      "execution_count": 1,
      "outputs": [
        {
          "output_type": "stream",
          "text": [
            "Enter number of rows: 4\n",
            "* \n",
            "* * \n",
            "* * * \n",
            "* * * * \n",
            "* * * * * \n",
            "* * * * \n",
            "* * * \n",
            "* * \n",
            "* \n"
          ],
          "name": "stdout"
        }
      ]
    },
    {
      "cell_type": "code",
      "metadata": {
        "colab": {
          "base_uri": "https://localhost:8080/"
        },
        "id": "Fy-6R7riEYi9",
        "outputId": "d59930f0-a6f4-4b68-d141-997297de7cd9"
      },
      "source": [
        "#program to print a right triangle\r\n",
        "\r\n",
        "rows=int(input(\"Enter number of rows: \"))\r\n",
        "\r\n",
        "for i in range(1, rows+1):\r\n",
        "  print(\"* \"*i)"
      ],
      "execution_count": 2,
      "outputs": [
        {
          "output_type": "stream",
          "text": [
            "Enter number of rows: 4\n",
            "* \n",
            "* * \n",
            "* * * \n",
            "* * * * \n"
          ],
          "name": "stdout"
        }
      ]
    },
    {
      "cell_type": "code",
      "metadata": {
        "colab": {
          "base_uri": "https://localhost:8080/"
        },
        "id": "dQe22IuRK9SM",
        "outputId": "e002ce42-dbbd-4940-a6dc-68469c0a330c"
      },
      "source": [
        "#program to print a opposite right triangle\r\n",
        "\r\n",
        "rows=int(input(\"Enter number of rows: \"))\r\n",
        "\r\n",
        "for i in range(1, rows+1):\r\n",
        "  print(\" \"*(rows-i) + \"*\"*i)"
      ],
      "execution_count": 3,
      "outputs": [
        {
          "output_type": "stream",
          "text": [
            "Enter number of rows: 4\n",
            "   *\n",
            "  **\n",
            " ***\n",
            "****\n"
          ],
          "name": "stdout"
        }
      ]
    },
    {
      "cell_type": "code",
      "metadata": {
        "colab": {
          "base_uri": "https://localhost:8080/"
        },
        "id": "0Rua-DWAKjR0",
        "outputId": "59907a66-8595-4571-881b-15584864442f"
      },
      "source": [
        "#program to print a triangle\r\n",
        "\r\n",
        "rows=int(input(\"Enter number of rows: \"))\r\n",
        "\r\n",
        "for i in range(1, rows+1):\r\n",
        "  print(\" \"*(rows-i) + \"* \"*i)"
      ],
      "execution_count": 4,
      "outputs": [
        {
          "output_type": "stream",
          "text": [
            "Enter number of rows: 4\n",
            "   * \n",
            "  * * \n",
            " * * * \n",
            "* * * * \n"
          ],
          "name": "stdout"
        }
      ]
    },
    {
      "cell_type": "code",
      "metadata": {
        "colab": {
          "base_uri": "https://localhost:8080/"
        },
        "id": "IUGhraMxG04i",
        "outputId": "2871d774-f40e-4672-83bb-06a16a6a622d"
      },
      "source": [
        "#program to print a square\r\n",
        "\r\n",
        "rows=int(input(\"Enter number of rows: \"))\r\n",
        "\r\n",
        "for i in range(1, rows):\r\n",
        "  print(\"* \"*rows)"
      ],
      "execution_count": 5,
      "outputs": [
        {
          "output_type": "stream",
          "text": [
            "Enter number of rows: 4\n",
            "* * * * \n",
            "* * * * \n",
            "* * * * \n"
          ],
          "name": "stdout"
        }
      ]
    },
    {
      "cell_type": "markdown",
      "metadata": {
        "id": "DSzV52BsMJUc"
      },
      "source": [
        "#### 2. Write a Python program to reverse a word after accepting the input from the user."
      ]
    },
    {
      "cell_type": "code",
      "metadata": {
        "colab": {
          "base_uri": "https://localhost:8080/"
        },
        "id": "-IDJkK5dMOMM",
        "outputId": "61b4d4ed-cdf2-4b20-be51-46ddb0b58771"
      },
      "source": [
        "word=str(input(\"Enter the word: \"))\r\n",
        "print(word[::-1])"
      ],
      "execution_count": 6,
      "outputs": [
        {
          "output_type": "stream",
          "text": [
            "Enter the word: ineuron\n",
            "norueni\n"
          ],
          "name": "stdout"
        }
      ]
    }
  ]
}