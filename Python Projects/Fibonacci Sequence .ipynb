{
 "cells": [
  {
   "cell_type": "code",
   "execution_count": 1,
   "metadata": {},
   "outputs": [
    {
     "name": "stdout",
     "output_type": "stream",
     "text": [
      "Please insert value of n to find the Fibonacci series till nth number:19\n",
      "0, 1, 1, 2, 3, 5, 8, 13, 21, 34, 55, 89, 144, 233, 377, 610, 987, 1597, 2584\n"
     ]
    }
   ],
   "source": [
    "#fibonacci series upto n digits\n",
    "\n",
    "#Base Function\n",
    "def fibn(n):\n",
    "    assert n>0 #if n>0 then no error and it is greater than 0 \n",
    "    #0,1,1,2,5,8,13,21,34,55,89,144 sample fibonacci series\n",
    "    \n",
    "    series =[0]#the fibonacci series starts from zero\n",
    "    \n",
    "    while len(series)<n:\n",
    "        if len(series)==1:\n",
    "            series.append(1)\n",
    "        else:\n",
    "            series.append(series[-1]+series[-2])#reverse indexing starts from -1\n",
    "            \n",
    "    for i in range(len(series)):  # Convert the numbers to strings\n",
    "        series[i] = str(series[i])\n",
    "    return(', '.join(series))\n",
    "\n",
    "\n",
    "#Call Function\n",
    "def output():\n",
    "     print(fibn(int(input(\"Please insert value of n to find the Fibonacci series till nth number:\"))))\n",
    "        \n",
    "output()"
   ]
  },
  {
   "cell_type": "code",
   "execution_count": 2,
   "metadata": {},
   "outputs": [],
   "source": [
    "x=\"hello\"\n",
    "assert x==\"hello\"#no assertion error"
   ]
  },
  {
   "cell_type": "code",
   "execution_count": 3,
   "metadata": {},
   "outputs": [
    {
     "ename": "AssertionError",
     "evalue": "",
     "output_type": "error",
     "traceback": [
      "\u001b[1;31m---------------------------------------------------------------------------\u001b[0m",
      "\u001b[1;31mAssertionError\u001b[0m                            Traceback (most recent call last)",
      "\u001b[1;32m<ipython-input-3-c37a66401015>\u001b[0m in \u001b[0;36m<module>\u001b[1;34m\u001b[0m\n\u001b[0;32m      1\u001b[0m \u001b[0mx\u001b[0m\u001b[1;33m=\u001b[0m\u001b[1;34m\"hello\"\u001b[0m\u001b[1;33m\u001b[0m\u001b[1;33m\u001b[0m\u001b[0m\n\u001b[1;32m----> 2\u001b[1;33m \u001b[1;32massert\u001b[0m \u001b[0mx\u001b[0m\u001b[1;33m==\u001b[0m\u001b[1;34m\"hello mike\"\u001b[0m\u001b[1;31m#assertion error\u001b[0m\u001b[1;33m\u001b[0m\u001b[1;33m\u001b[0m\u001b[0m\n\u001b[0m",
      "\u001b[1;31mAssertionError\u001b[0m: "
     ]
    }
   ],
   "source": [
    "x=\"hello\"\n",
    "assert x==\"hello mike\"#assertion error"
   ]
  }
 ],
 "metadata": {
  "kernelspec": {
   "display_name": "Python 3",
   "language": "python",
   "name": "python3"
  },
  "language_info": {
   "codemirror_mode": {
    "name": "ipython",
    "version": 3
   },
   "file_extension": ".py",
   "mimetype": "text/x-python",
   "name": "python",
   "nbconvert_exporter": "python",
   "pygments_lexer": "ipython3",
   "version": "3.8.5"
  }
 },
 "nbformat": 4,
 "nbformat_minor": 4
}
