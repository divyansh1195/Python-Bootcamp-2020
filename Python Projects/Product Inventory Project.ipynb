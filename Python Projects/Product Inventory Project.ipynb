{
 "cells": [
  {
   "cell_type": "markdown",
   "metadata": {},
   "source": [
    "# Classes"
   ]
  },
  {
   "cell_type": "markdown",
   "metadata": {},
   "source": [
    "#### Product Inventory Project - Create an application which manages an inventory of products. Create a product class which has a price, id, and quantity on hand. Then create an inventory class which keeps track of various products and can sum up the inventory value."
   ]
  },
  {
   "cell_type": "code",
   "execution_count": 1,
   "metadata": {},
   "outputs": [
    {
     "name": "stdout",
     "output_type": "stream",
     "text": [
      "Please give your product details\n",
      "Cost of the product : 99\n",
      "ID of the product : 11\n",
      "Quantity of the product : 5\n",
      "==============================\n",
      "     ID  Cost  Quantity\n",
      "0  11.0  99.0       5.0\n",
      "==============================\n",
      "1)Would u like to add even more products?\n",
      "2)Get the inventory value\n",
      "3)Exit\n",
      "2\n",
      "The total value of inventory is :  495.0\n",
      "1)Would u like to add even more products?\n",
      "2)Get the inventory value\n",
      "3)Exit\n",
      "2\n",
      "The total value of inventory is :  495.0\n",
      "1)Would u like to add even more products?\n",
      "2)Get the inventory value\n",
      "3)Exit\n",
      "3\n",
      "Exiting....\n",
      "1)Would u like to add even more products?\n",
      "2)Get the inventory value\n",
      "3)Exit\n",
      "3\n",
      "Exiting....\n"
     ]
    }
   ],
   "source": [
    "import pandas as pd\n",
    "\n",
    "class Product(object):\n",
    "    def __init__(self):\n",
    "        self.price = None\n",
    "        self.id = None\n",
    "        self.qty = None\n",
    "        self.data = pd.DataFrame(([]),columns=['ID','Cost','Quantity'])\n",
    "\n",
    "class inventory(Product):\n",
    "    # create a product_detail function\n",
    "    def product_detail(self):\n",
    "        print(\"Please give your product details\")\n",
    "        self.cost = float(input(\"Cost of the product : \"))\n",
    "        self.id = int(input(\"ID of the product : \"))\n",
    "        self.qty = int(input(\"Quantity of the product : \"))\n",
    "        print(\"=\"*30)\n",
    "        self.data = self.data.append({'ID':self.id,'Cost':self.cost,'Quantity':self.qty},ignore_index=True)\n",
    "        print(self.data)\n",
    "        print(\"=\"*30)\n",
    "        self.option()\n",
    "    # create an options function\n",
    "    def option(self):\n",
    "        print(\"1)Would u like to add even more products?\\n2)Get the inventory value\\n3)Exit\")\n",
    "        option = int(input())\n",
    "        if(option == 1):\n",
    "            self.product_detail()\n",
    "        elif(option==2):\n",
    "            print(\"The total value of inventory is : \",((self.data['Cost'])*(self.data['Quantity'])).sum())\n",
    "            self.option()\n",
    "        else:\n",
    "            print(\"Exiting....\")\n",
    "        exit()\n",
    "            \n",
    "inv=inventory()\n",
    "inv.product_detail()\n",
    "inv.option()"
   ]
  }
 ],
 "metadata": {
  "kernelspec": {
   "display_name": "Python 3",
   "language": "python",
   "name": "python3"
  },
  "language_info": {
   "codemirror_mode": {
    "name": "ipython",
    "version": 3
   },
   "file_extension": ".py",
   "mimetype": "text/x-python",
   "name": "python",
   "nbconvert_exporter": "python",
   "pygments_lexer": "ipython3",
   "version": "3.8.5"
  }
 },
 "nbformat": 4,
 "nbformat_minor": 4
}
