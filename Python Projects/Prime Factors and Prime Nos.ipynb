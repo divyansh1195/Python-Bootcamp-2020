{
 "cells": [
  {
   "cell_type": "markdown",
   "metadata": {},
   "source": [
    "#### prime_factors"
   ]
  },
  {
   "cell_type": "code",
   "execution_count": null,
   "metadata": {},
   "outputs": [],
   "source": [
    "import math\n",
    "\n",
    "def primefactors(n):\n",
    "    \n",
    "    #base prime factor for an even no\n",
    "    # eg. let n=4, so 4%2==0 now the no becomes 2 \n",
    "    if n%2==0:\n",
    "        print(2)\n",
    "        n=n/2\n",
    "    \n",
    "    #if the number is odd\n",
    "    #eg. if the number n=30, range(3, 6, 2) so if 30%3==0\n",
    "    #    n becomes 10 now, 10%4 !=0 but 10%5==0 so no becomes n=2, we go to first condition\n",
    "    \n",
    "    for i in range(3, int(math.sqrt(n))+1, 2):\n",
    "        if n%i==0:\n",
    "            print(i)\n",
    "            n=n/i\n",
    "    if n>2:\n",
    "        print(int(n))"
   ]
  },
  {
   "cell_type": "code",
   "execution_count": null,
   "metadata": {},
   "outputs": [],
   "source": [
    "primefactors(30)"
   ]
  },
  {
   "cell_type": "markdown",
   "metadata": {},
   "source": [
    "----------------------------------------------------"
   ]
  },
  {
   "cell_type": "markdown",
   "metadata": {},
   "source": [
    "#### isprime or composite"
   ]
  },
  {
   "cell_type": "code",
   "execution_count": null,
   "metadata": {},
   "outputs": [],
   "source": [
    "import math\n",
    "\n",
    "def isprime(n):\n",
    "    \n",
    "    if n==1 or n==0:\n",
    "        return \"Neither\"\n",
    "    \n",
    "    if n==2:\n",
    "        return \"Prime\"\n",
    "    \n",
    "    while n%2==0:\n",
    "        for i in range(2, int(math.sqrt(n)), 2):\n",
    "            return \"Composite Number\"\n",
    "    \n",
    "    return \"Prime\""
   ]
  },
  {
   "cell_type": "code",
   "execution_count": null,
   "metadata": {},
   "outputs": [],
   "source": [
    "isprime(100)"
   ]
  },
  {
   "cell_type": "code",
   "execution_count": null,
   "metadata": {},
   "outputs": [],
   "source": [
    "isprime(5)"
   ]
  },
  {
   "cell_type": "code",
   "execution_count": null,
   "metadata": {},
   "outputs": [],
   "source": [
    "isprime(0)"
   ]
  },
  {
   "cell_type": "code",
   "execution_count": null,
   "metadata": {},
   "outputs": [],
   "source": [
    "isprime(1)"
   ]
  },
  {
   "cell_type": "code",
   "execution_count": null,
   "metadata": {},
   "outputs": [],
   "source": [
    "isprime(2)"
   ]
  },
  {
   "cell_type": "markdown",
   "metadata": {},
   "source": [
    "------------------------------------------------------------------------------------------"
   ]
  },
  {
   "cell_type": "markdown",
   "metadata": {},
   "source": [
    "#### Next Prime"
   ]
  },
  {
   "cell_type": "code",
   "execution_count": 1,
   "metadata": {},
   "outputs": [
    {
     "data": {
      "text/plain": [
       "False"
      ]
     },
     "execution_count": 1,
     "metadata": {},
     "output_type": "execute_result"
    }
   ],
   "source": [
    "import math\n",
    "\n",
    "def isprime(n):\n",
    "    \n",
    "    if n == 2:\n",
    "        return True\n",
    "\n",
    "    if n % 2 == 0:\n",
    "        return False\n",
    "\n",
    "    for i in range(3, int(math.sqrt(n))+1, 2):\n",
    "        if n % i == 0:\n",
    "            return False\n",
    "\n",
    "    return True\n",
    "\n",
    "\n",
    "isprime(8)"
   ]
  },
  {
   "cell_type": "code",
   "execution_count": 2,
   "metadata": {},
   "outputs": [],
   "source": [
    "def nextprime(currp):\n",
    "    \n",
    "    nexp=currp+1\n",
    "    \n",
    "    while True:\n",
    "        if not isprime(nexp):\n",
    "            nexp=nexp+1\n",
    "        else:\n",
    "            break\n",
    "            \n",
    "    return nexp"
   ]
  },
  {
   "cell_type": "code",
   "execution_count": 3,
   "metadata": {},
   "outputs": [
    {
     "data": {
      "text/plain": [
       "7"
      ]
     },
     "execution_count": 3,
     "metadata": {},
     "output_type": "execute_result"
    }
   ],
   "source": [
    "nextprime(5)"
   ]
  },
  {
   "cell_type": "code",
   "execution_count": null,
   "metadata": {},
   "outputs": [],
   "source": [
    "nextprime(7)"
   ]
  },
  {
   "cell_type": "code",
   "execution_count": null,
   "metadata": {},
   "outputs": [],
   "source": [
    "currp = 2\n",
    "while True:\n",
    "    answer = input('Would you like to see the next prime? (Y/N) ')\n",
    "    if answer.lower().startswith('y'):\n",
    "        print(currp)\n",
    "        currp = nextprime(currp)\n",
    "    else:\n",
    "        break"
   ]
  }
 ],
 "metadata": {
  "kernelspec": {
   "display_name": "Python 3",
   "language": "python",
   "name": "python3"
  },
  "language_info": {
   "codemirror_mode": {
    "name": "ipython",
    "version": 3
   },
   "file_extension": ".py",
   "mimetype": "text/x-python",
   "name": "python",
   "nbconvert_exporter": "python",
   "pygments_lexer": "ipython3",
   "version": "3.8.5"
  }
 },
 "nbformat": 4,
 "nbformat_minor": 4
}
